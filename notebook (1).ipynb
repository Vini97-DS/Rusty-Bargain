{
 "cells": [
  {
   "cell_type": "markdown",
   "metadata": {},
   "source": [
    "O serviço de vendas de carros usados Rusty Bargain está desenvolvendo um aplicativo para atrair novos clientes. Nesse aplicativo, você pode descobrir rapidamente o valor de mercado do seu carro. Você tem acesso a dados históricos: especificações técnicas, versões de acabamento e preços. Você precisa construir o modelo para determinar o valor. \n",
    "\n",
    "Rusty Bargain está interessado em:\n",
    "\n",
    "- a qualidade da predição;\n",
    "- a velocidade da predição;\n",
    "- o tempo necessário para o treinamento"
   ]
  },
  {
   "cell_type": "markdown",
   "metadata": {},
   "source": [
    "## Preparação de Dados"
   ]
  },
  {
   "cell_type": "code",
   "execution_count": 1,
   "metadata": {},
   "outputs": [],
   "source": [
    "import pandas as pd "
   ]
  },
  {
   "cell_type": "code",
   "execution_count": 2,
   "metadata": {},
   "outputs": [],
   "source": [
    "df = pd.read_csv('/datasets/car_data.csv')"
   ]
  },
  {
   "cell_type": "code",
   "execution_count": 3,
   "metadata": {},
   "outputs": [
    {
     "name": "stdout",
     "output_type": "stream",
     "text": [
      "<class 'pandas.core.frame.DataFrame'>\n",
      "RangeIndex: 354369 entries, 0 to 354368\n",
      "Data columns (total 16 columns):\n",
      " #   Column             Non-Null Count   Dtype \n",
      "---  ------             --------------   ----- \n",
      " 0   DateCrawled        354369 non-null  object\n",
      " 1   Price              354369 non-null  int64 \n",
      " 2   VehicleType        316879 non-null  object\n",
      " 3   RegistrationYear   354369 non-null  int64 \n",
      " 4   Gearbox            334536 non-null  object\n",
      " 5   Power              354369 non-null  int64 \n",
      " 6   Model              334664 non-null  object\n",
      " 7   Mileage            354369 non-null  int64 \n",
      " 8   RegistrationMonth  354369 non-null  int64 \n",
      " 9   FuelType           321474 non-null  object\n",
      " 10  Brand              354369 non-null  object\n",
      " 11  NotRepaired        283215 non-null  object\n",
      " 12  DateCreated        354369 non-null  object\n",
      " 13  NumberOfPictures   354369 non-null  int64 \n",
      " 14  PostalCode         354369 non-null  int64 \n",
      " 15  LastSeen           354369 non-null  object\n",
      "dtypes: int64(7), object(9)\n",
      "memory usage: 43.3+ MB\n"
     ]
    }
   ],
   "source": [
    "df.info()"
   ]
  },
  {
   "cell_type": "code",
   "execution_count": 4,
   "metadata": {},
   "outputs": [
    {
     "data": {
      "text/html": [
       "<div>\n",
       "<style scoped>\n",
       "    .dataframe tbody tr th:only-of-type {\n",
       "        vertical-align: middle;\n",
       "    }\n",
       "\n",
       "    .dataframe tbody tr th {\n",
       "        vertical-align: top;\n",
       "    }\n",
       "\n",
       "    .dataframe thead th {\n",
       "        text-align: right;\n",
       "    }\n",
       "</style>\n",
       "<table border=\"1\" class=\"dataframe\">\n",
       "  <thead>\n",
       "    <tr style=\"text-align: right;\">\n",
       "      <th></th>\n",
       "      <th>DateCrawled</th>\n",
       "      <th>Price</th>\n",
       "      <th>VehicleType</th>\n",
       "      <th>RegistrationYear</th>\n",
       "      <th>Gearbox</th>\n",
       "      <th>Power</th>\n",
       "      <th>Model</th>\n",
       "      <th>Mileage</th>\n",
       "      <th>RegistrationMonth</th>\n",
       "      <th>FuelType</th>\n",
       "      <th>Brand</th>\n",
       "      <th>NotRepaired</th>\n",
       "      <th>DateCreated</th>\n",
       "      <th>NumberOfPictures</th>\n",
       "      <th>PostalCode</th>\n",
       "      <th>LastSeen</th>\n",
       "    </tr>\n",
       "  </thead>\n",
       "  <tbody>\n",
       "    <tr>\n",
       "      <th>168545</th>\n",
       "      <td>10/03/2016 20:53</td>\n",
       "      <td>199</td>\n",
       "      <td>small</td>\n",
       "      <td>1994</td>\n",
       "      <td>manual</td>\n",
       "      <td>54</td>\n",
       "      <td>polo</td>\n",
       "      <td>30000</td>\n",
       "      <td>12</td>\n",
       "      <td>petrol</td>\n",
       "      <td>volkswagen</td>\n",
       "      <td>NaN</td>\n",
       "      <td>10/03/2016 00:00</td>\n",
       "      <td>0</td>\n",
       "      <td>9120</td>\n",
       "      <td>10/03/2016 20:53</td>\n",
       "    </tr>\n",
       "    <tr>\n",
       "      <th>295162</th>\n",
       "      <td>19/03/2016 19:46</td>\n",
       "      <td>3950</td>\n",
       "      <td>sedan</td>\n",
       "      <td>2003</td>\n",
       "      <td>manual</td>\n",
       "      <td>143</td>\n",
       "      <td>3er</td>\n",
       "      <td>150000</td>\n",
       "      <td>2</td>\n",
       "      <td>petrol</td>\n",
       "      <td>bmw</td>\n",
       "      <td>no</td>\n",
       "      <td>19/03/2016 00:00</td>\n",
       "      <td>0</td>\n",
       "      <td>59320</td>\n",
       "      <td>19/03/2016 19:46</td>\n",
       "    </tr>\n",
       "    <tr>\n",
       "      <th>129180</th>\n",
       "      <td>16/03/2016 16:54</td>\n",
       "      <td>0</td>\n",
       "      <td>bus</td>\n",
       "      <td>2007</td>\n",
       "      <td>auto</td>\n",
       "      <td>103</td>\n",
       "      <td>other</td>\n",
       "      <td>150000</td>\n",
       "      <td>9</td>\n",
       "      <td>lpg</td>\n",
       "      <td>hyundai</td>\n",
       "      <td>yes</td>\n",
       "      <td>16/03/2016 00:00</td>\n",
       "      <td>0</td>\n",
       "      <td>52066</td>\n",
       "      <td>16/03/2016 16:54</td>\n",
       "    </tr>\n",
       "    <tr>\n",
       "      <th>100580</th>\n",
       "      <td>12/03/2016 05:36</td>\n",
       "      <td>2499</td>\n",
       "      <td>sedan</td>\n",
       "      <td>2003</td>\n",
       "      <td>manual</td>\n",
       "      <td>64</td>\n",
       "      <td>polo</td>\n",
       "      <td>150000</td>\n",
       "      <td>4</td>\n",
       "      <td>petrol</td>\n",
       "      <td>volkswagen</td>\n",
       "      <td>NaN</td>\n",
       "      <td>12/03/2016 00:00</td>\n",
       "      <td>0</td>\n",
       "      <td>26736</td>\n",
       "      <td>29/03/2016 21:17</td>\n",
       "    </tr>\n",
       "    <tr>\n",
       "      <th>344474</th>\n",
       "      <td>10/03/2016 00:52</td>\n",
       "      <td>10900</td>\n",
       "      <td>coupe</td>\n",
       "      <td>2000</td>\n",
       "      <td>auto</td>\n",
       "      <td>306</td>\n",
       "      <td>cl</td>\n",
       "      <td>150000</td>\n",
       "      <td>1</td>\n",
       "      <td>petrol</td>\n",
       "      <td>mercedes_benz</td>\n",
       "      <td>no</td>\n",
       "      <td>09/03/2016 00:00</td>\n",
       "      <td>0</td>\n",
       "      <td>12679</td>\n",
       "      <td>05/04/2016 19:18</td>\n",
       "    </tr>\n",
       "  </tbody>\n",
       "</table>\n",
       "</div>"
      ],
      "text/plain": [
       "             DateCrawled  Price VehicleType  RegistrationYear Gearbox  Power  \\\n",
       "168545  10/03/2016 20:53    199       small              1994  manual     54   \n",
       "295162  19/03/2016 19:46   3950       sedan              2003  manual    143   \n",
       "129180  16/03/2016 16:54      0         bus              2007    auto    103   \n",
       "100580  12/03/2016 05:36   2499       sedan              2003  manual     64   \n",
       "344474  10/03/2016 00:52  10900       coupe              2000    auto    306   \n",
       "\n",
       "        Model  Mileage  RegistrationMonth FuelType          Brand NotRepaired  \\\n",
       "168545   polo    30000                 12   petrol     volkswagen         NaN   \n",
       "295162    3er   150000                  2   petrol            bmw          no   \n",
       "129180  other   150000                  9      lpg        hyundai         yes   \n",
       "100580   polo   150000                  4   petrol     volkswagen         NaN   \n",
       "344474     cl   150000                  1   petrol  mercedes_benz          no   \n",
       "\n",
       "             DateCreated  NumberOfPictures  PostalCode          LastSeen  \n",
       "168545  10/03/2016 00:00                 0        9120  10/03/2016 20:53  \n",
       "295162  19/03/2016 00:00                 0       59320  19/03/2016 19:46  \n",
       "129180  16/03/2016 00:00                 0       52066  16/03/2016 16:54  \n",
       "100580  12/03/2016 00:00                 0       26736  29/03/2016 21:17  \n",
       "344474  09/03/2016 00:00                 0       12679  05/04/2016 19:18  "
      ]
     },
     "execution_count": 4,
     "metadata": {},
     "output_type": "execute_result"
    }
   ],
   "source": [
    "df.sample(5)"
   ]
  },
  {
   "cell_type": "code",
   "execution_count": 5,
   "metadata": {},
   "outputs": [
    {
     "data": {
      "text/html": [
       "<div>\n",
       "<style scoped>\n",
       "    .dataframe tbody tr th:only-of-type {\n",
       "        vertical-align: middle;\n",
       "    }\n",
       "\n",
       "    .dataframe tbody tr th {\n",
       "        vertical-align: top;\n",
       "    }\n",
       "\n",
       "    .dataframe thead th {\n",
       "        text-align: right;\n",
       "    }\n",
       "</style>\n",
       "<table border=\"1\" class=\"dataframe\">\n",
       "  <thead>\n",
       "    <tr style=\"text-align: right;\">\n",
       "      <th></th>\n",
       "      <th>Price</th>\n",
       "      <th>RegistrationYear</th>\n",
       "      <th>Power</th>\n",
       "      <th>Mileage</th>\n",
       "      <th>RegistrationMonth</th>\n",
       "      <th>NumberOfPictures</th>\n",
       "      <th>PostalCode</th>\n",
       "    </tr>\n",
       "  </thead>\n",
       "  <tbody>\n",
       "    <tr>\n",
       "      <th>count</th>\n",
       "      <td>354369.000000</td>\n",
       "      <td>354369.000000</td>\n",
       "      <td>354369.000000</td>\n",
       "      <td>354369.000000</td>\n",
       "      <td>354369.000000</td>\n",
       "      <td>354369.0</td>\n",
       "      <td>354369.000000</td>\n",
       "    </tr>\n",
       "    <tr>\n",
       "      <th>mean</th>\n",
       "      <td>4416.656776</td>\n",
       "      <td>2004.234448</td>\n",
       "      <td>110.094337</td>\n",
       "      <td>128211.172535</td>\n",
       "      <td>5.714645</td>\n",
       "      <td>0.0</td>\n",
       "      <td>50508.689087</td>\n",
       "    </tr>\n",
       "    <tr>\n",
       "      <th>std</th>\n",
       "      <td>4514.158514</td>\n",
       "      <td>90.227958</td>\n",
       "      <td>189.850405</td>\n",
       "      <td>37905.341530</td>\n",
       "      <td>3.726421</td>\n",
       "      <td>0.0</td>\n",
       "      <td>25783.096248</td>\n",
       "    </tr>\n",
       "    <tr>\n",
       "      <th>min</th>\n",
       "      <td>0.000000</td>\n",
       "      <td>1000.000000</td>\n",
       "      <td>0.000000</td>\n",
       "      <td>5000.000000</td>\n",
       "      <td>0.000000</td>\n",
       "      <td>0.0</td>\n",
       "      <td>1067.000000</td>\n",
       "    </tr>\n",
       "    <tr>\n",
       "      <th>25%</th>\n",
       "      <td>1050.000000</td>\n",
       "      <td>1999.000000</td>\n",
       "      <td>69.000000</td>\n",
       "      <td>125000.000000</td>\n",
       "      <td>3.000000</td>\n",
       "      <td>0.0</td>\n",
       "      <td>30165.000000</td>\n",
       "    </tr>\n",
       "    <tr>\n",
       "      <th>50%</th>\n",
       "      <td>2700.000000</td>\n",
       "      <td>2003.000000</td>\n",
       "      <td>105.000000</td>\n",
       "      <td>150000.000000</td>\n",
       "      <td>6.000000</td>\n",
       "      <td>0.0</td>\n",
       "      <td>49413.000000</td>\n",
       "    </tr>\n",
       "    <tr>\n",
       "      <th>75%</th>\n",
       "      <td>6400.000000</td>\n",
       "      <td>2008.000000</td>\n",
       "      <td>143.000000</td>\n",
       "      <td>150000.000000</td>\n",
       "      <td>9.000000</td>\n",
       "      <td>0.0</td>\n",
       "      <td>71083.000000</td>\n",
       "    </tr>\n",
       "    <tr>\n",
       "      <th>max</th>\n",
       "      <td>20000.000000</td>\n",
       "      <td>9999.000000</td>\n",
       "      <td>20000.000000</td>\n",
       "      <td>150000.000000</td>\n",
       "      <td>12.000000</td>\n",
       "      <td>0.0</td>\n",
       "      <td>99998.000000</td>\n",
       "    </tr>\n",
       "  </tbody>\n",
       "</table>\n",
       "</div>"
      ],
      "text/plain": [
       "               Price  RegistrationYear          Power        Mileage  \\\n",
       "count  354369.000000     354369.000000  354369.000000  354369.000000   \n",
       "mean     4416.656776       2004.234448     110.094337  128211.172535   \n",
       "std      4514.158514         90.227958     189.850405   37905.341530   \n",
       "min         0.000000       1000.000000       0.000000    5000.000000   \n",
       "25%      1050.000000       1999.000000      69.000000  125000.000000   \n",
       "50%      2700.000000       2003.000000     105.000000  150000.000000   \n",
       "75%      6400.000000       2008.000000     143.000000  150000.000000   \n",
       "max     20000.000000       9999.000000   20000.000000  150000.000000   \n",
       "\n",
       "       RegistrationMonth  NumberOfPictures     PostalCode  \n",
       "count      354369.000000          354369.0  354369.000000  \n",
       "mean            5.714645               0.0   50508.689087  \n",
       "std             3.726421               0.0   25783.096248  \n",
       "min             0.000000               0.0    1067.000000  \n",
       "25%             3.000000               0.0   30165.000000  \n",
       "50%             6.000000               0.0   49413.000000  \n",
       "75%             9.000000               0.0   71083.000000  \n",
       "max            12.000000               0.0   99998.000000  "
      ]
     },
     "execution_count": 5,
     "metadata": {},
     "output_type": "execute_result"
    }
   ],
   "source": [
    "df.describe()"
   ]
  },
  {
   "cell_type": "code",
   "execution_count": 6,
   "metadata": {},
   "outputs": [
    {
     "data": {
      "text/plain": [
       "DateCrawled              0\n",
       "Price                    0\n",
       "VehicleType          37490\n",
       "RegistrationYear         0\n",
       "Gearbox              19833\n",
       "Power                    0\n",
       "Model                19705\n",
       "Mileage                  0\n",
       "RegistrationMonth        0\n",
       "FuelType             32895\n",
       "Brand                    0\n",
       "NotRepaired          71154\n",
       "DateCreated              0\n",
       "NumberOfPictures         0\n",
       "PostalCode               0\n",
       "LastSeen                 0\n",
       "dtype: int64"
      ]
     },
     "execution_count": 6,
     "metadata": {},
     "output_type": "execute_result"
    }
   ],
   "source": [
    "df.isna().sum()"
   ]
  },
  {
   "cell_type": "code",
   "execution_count": 7,
   "metadata": {},
   "outputs": [],
   "source": [
    "df['VehicleType']= df['VehicleType'].fillna(df['VehicleType'].mode()[0])\n",
    "df['Gearbox']= df['Gearbox'].fillna(df['Gearbox'].mode()[0])\n",
    "df['FuelType']= df['FuelType'].fillna(df['FuelType'].mode()[0])"
   ]
  },
  {
   "cell_type": "code",
   "execution_count": 8,
   "metadata": {},
   "outputs": [
    {
     "data": {
      "text/html": [
       "<div>\n",
       "<style scoped>\n",
       "    .dataframe tbody tr th:only-of-type {\n",
       "        vertical-align: middle;\n",
       "    }\n",
       "\n",
       "    .dataframe tbody tr th {\n",
       "        vertical-align: top;\n",
       "    }\n",
       "\n",
       "    .dataframe thead th {\n",
       "        text-align: right;\n",
       "    }\n",
       "</style>\n",
       "<table border=\"1\" class=\"dataframe\">\n",
       "  <thead>\n",
       "    <tr style=\"text-align: right;\">\n",
       "      <th></th>\n",
       "      <th>DateCrawled</th>\n",
       "      <th>Price</th>\n",
       "      <th>VehicleType</th>\n",
       "      <th>RegistrationYear</th>\n",
       "      <th>Gearbox</th>\n",
       "      <th>Power</th>\n",
       "      <th>Model</th>\n",
       "      <th>Mileage</th>\n",
       "      <th>RegistrationMonth</th>\n",
       "      <th>FuelType</th>\n",
       "      <th>Brand</th>\n",
       "      <th>NotRepaired</th>\n",
       "      <th>DateCreated</th>\n",
       "      <th>NumberOfPictures</th>\n",
       "      <th>PostalCode</th>\n",
       "      <th>LastSeen</th>\n",
       "    </tr>\n",
       "  </thead>\n",
       "  <tbody>\n",
       "    <tr>\n",
       "      <th>14266</th>\n",
       "      <td>21/03/2016 19:06</td>\n",
       "      <td>5999</td>\n",
       "      <td>small</td>\n",
       "      <td>2009</td>\n",
       "      <td>manual</td>\n",
       "      <td>80</td>\n",
       "      <td>polo</td>\n",
       "      <td>125000</td>\n",
       "      <td>5</td>\n",
       "      <td>petrol</td>\n",
       "      <td>volkswagen</td>\n",
       "      <td>no</td>\n",
       "      <td>21/03/2016 00:00</td>\n",
       "      <td>0</td>\n",
       "      <td>65529</td>\n",
       "      <td>05/04/2016 20:47</td>\n",
       "    </tr>\n",
       "    <tr>\n",
       "      <th>27568</th>\n",
       "      <td>23/03/2016 10:38</td>\n",
       "      <td>12200</td>\n",
       "      <td>bus</td>\n",
       "      <td>2011</td>\n",
       "      <td>manual</td>\n",
       "      <td>125</td>\n",
       "      <td>zafira</td>\n",
       "      <td>40000</td>\n",
       "      <td>10</td>\n",
       "      <td>gasoline</td>\n",
       "      <td>opel</td>\n",
       "      <td>no</td>\n",
       "      <td>23/03/2016 00:00</td>\n",
       "      <td>0</td>\n",
       "      <td>26629</td>\n",
       "      <td>05/04/2016 07:44</td>\n",
       "    </tr>\n",
       "    <tr>\n",
       "      <th>31599</th>\n",
       "      <td>03/04/2016 20:41</td>\n",
       "      <td>4950</td>\n",
       "      <td>wagon</td>\n",
       "      <td>2003</td>\n",
       "      <td>auto</td>\n",
       "      <td>170</td>\n",
       "      <td>e_klasse</td>\n",
       "      <td>150000</td>\n",
       "      <td>4</td>\n",
       "      <td>gasoline</td>\n",
       "      <td>mercedes_benz</td>\n",
       "      <td>no</td>\n",
       "      <td>03/04/2016 00:00</td>\n",
       "      <td>0</td>\n",
       "      <td>48432</td>\n",
       "      <td>05/04/2016 21:17</td>\n",
       "    </tr>\n",
       "    <tr>\n",
       "      <th>33138</th>\n",
       "      <td>07/03/2016 20:45</td>\n",
       "      <td>10900</td>\n",
       "      <td>convertible</td>\n",
       "      <td>2005</td>\n",
       "      <td>auto</td>\n",
       "      <td>163</td>\n",
       "      <td>clk</td>\n",
       "      <td>125000</td>\n",
       "      <td>5</td>\n",
       "      <td>petrol</td>\n",
       "      <td>mercedes_benz</td>\n",
       "      <td>no</td>\n",
       "      <td>07/03/2016 00:00</td>\n",
       "      <td>0</td>\n",
       "      <td>61200</td>\n",
       "      <td>21/03/2016 03:45</td>\n",
       "    </tr>\n",
       "    <tr>\n",
       "      <th>43656</th>\n",
       "      <td>13/03/2016 20:48</td>\n",
       "      <td>4200</td>\n",
       "      <td>sedan</td>\n",
       "      <td>2003</td>\n",
       "      <td>manual</td>\n",
       "      <td>105</td>\n",
       "      <td>golf</td>\n",
       "      <td>150000</td>\n",
       "      <td>10</td>\n",
       "      <td>gasoline</td>\n",
       "      <td>volkswagen</td>\n",
       "      <td>no</td>\n",
       "      <td>13/03/2016 00:00</td>\n",
       "      <td>0</td>\n",
       "      <td>14482</td>\n",
       "      <td>13/03/2016 20:48</td>\n",
       "    </tr>\n",
       "    <tr>\n",
       "      <th>...</th>\n",
       "      <td>...</td>\n",
       "      <td>...</td>\n",
       "      <td>...</td>\n",
       "      <td>...</td>\n",
       "      <td>...</td>\n",
       "      <td>...</td>\n",
       "      <td>...</td>\n",
       "      <td>...</td>\n",
       "      <td>...</td>\n",
       "      <td>...</td>\n",
       "      <td>...</td>\n",
       "      <td>...</td>\n",
       "      <td>...</td>\n",
       "      <td>...</td>\n",
       "      <td>...</td>\n",
       "      <td>...</td>\n",
       "    </tr>\n",
       "    <tr>\n",
       "      <th>349709</th>\n",
       "      <td>03/04/2016 20:52</td>\n",
       "      <td>700</td>\n",
       "      <td>small</td>\n",
       "      <td>1999</td>\n",
       "      <td>manual</td>\n",
       "      <td>60</td>\n",
       "      <td>ibiza</td>\n",
       "      <td>150000</td>\n",
       "      <td>12</td>\n",
       "      <td>petrol</td>\n",
       "      <td>seat</td>\n",
       "      <td>yes</td>\n",
       "      <td>03/04/2016 00:00</td>\n",
       "      <td>0</td>\n",
       "      <td>6268</td>\n",
       "      <td>05/04/2016 21:47</td>\n",
       "    </tr>\n",
       "    <tr>\n",
       "      <th>351555</th>\n",
       "      <td>26/03/2016 16:54</td>\n",
       "      <td>3150</td>\n",
       "      <td>bus</td>\n",
       "      <td>2003</td>\n",
       "      <td>manual</td>\n",
       "      <td>86</td>\n",
       "      <td>transit</td>\n",
       "      <td>150000</td>\n",
       "      <td>11</td>\n",
       "      <td>gasoline</td>\n",
       "      <td>ford</td>\n",
       "      <td>no</td>\n",
       "      <td>26/03/2016 00:00</td>\n",
       "      <td>0</td>\n",
       "      <td>96148</td>\n",
       "      <td>02/04/2016 07:47</td>\n",
       "    </tr>\n",
       "    <tr>\n",
       "      <th>352384</th>\n",
       "      <td>15/03/2016 21:54</td>\n",
       "      <td>5900</td>\n",
       "      <td>wagon</td>\n",
       "      <td>2006</td>\n",
       "      <td>manual</td>\n",
       "      <td>129</td>\n",
       "      <td>3er</td>\n",
       "      <td>150000</td>\n",
       "      <td>12</td>\n",
       "      <td>petrol</td>\n",
       "      <td>bmw</td>\n",
       "      <td>no</td>\n",
       "      <td>15/03/2016 00:00</td>\n",
       "      <td>0</td>\n",
       "      <td>92526</td>\n",
       "      <td>20/03/2016 21:17</td>\n",
       "    </tr>\n",
       "    <tr>\n",
       "      <th>353057</th>\n",
       "      <td>05/03/2016 14:16</td>\n",
       "      <td>9500</td>\n",
       "      <td>small</td>\n",
       "      <td>2013</td>\n",
       "      <td>manual</td>\n",
       "      <td>105</td>\n",
       "      <td>ibiza</td>\n",
       "      <td>40000</td>\n",
       "      <td>5</td>\n",
       "      <td>petrol</td>\n",
       "      <td>seat</td>\n",
       "      <td>no</td>\n",
       "      <td>04/03/2016 00:00</td>\n",
       "      <td>0</td>\n",
       "      <td>61381</td>\n",
       "      <td>05/04/2016 19:18</td>\n",
       "    </tr>\n",
       "    <tr>\n",
       "      <th>353727</th>\n",
       "      <td>20/03/2016 17:56</td>\n",
       "      <td>1</td>\n",
       "      <td>sedan</td>\n",
       "      <td>2000</td>\n",
       "      <td>manual</td>\n",
       "      <td>0</td>\n",
       "      <td>NaN</td>\n",
       "      <td>150000</td>\n",
       "      <td>0</td>\n",
       "      <td>petrol</td>\n",
       "      <td>bmw</td>\n",
       "      <td>NaN</td>\n",
       "      <td>20/03/2016 00:00</td>\n",
       "      <td>0</td>\n",
       "      <td>42329</td>\n",
       "      <td>07/04/2016 00:46</td>\n",
       "    </tr>\n",
       "  </tbody>\n",
       "</table>\n",
       "<p>270 rows × 16 columns</p>\n",
       "</div>"
      ],
      "text/plain": [
       "             DateCrawled  Price  VehicleType  RegistrationYear Gearbox  Power  \\\n",
       "14266   21/03/2016 19:06   5999        small              2009  manual     80   \n",
       "27568   23/03/2016 10:38  12200          bus              2011  manual    125   \n",
       "31599   03/04/2016 20:41   4950        wagon              2003    auto    170   \n",
       "33138   07/03/2016 20:45  10900  convertible              2005    auto    163   \n",
       "43656   13/03/2016 20:48   4200        sedan              2003  manual    105   \n",
       "...                  ...    ...          ...               ...     ...    ...   \n",
       "349709  03/04/2016 20:52    700        small              1999  manual     60   \n",
       "351555  26/03/2016 16:54   3150          bus              2003  manual     86   \n",
       "352384  15/03/2016 21:54   5900        wagon              2006  manual    129   \n",
       "353057  05/03/2016 14:16   9500        small              2013  manual    105   \n",
       "353727  20/03/2016 17:56      1        sedan              2000  manual      0   \n",
       "\n",
       "           Model  Mileage  RegistrationMonth  FuelType          Brand  \\\n",
       "14266       polo   125000                  5    petrol     volkswagen   \n",
       "27568     zafira    40000                 10  gasoline           opel   \n",
       "31599   e_klasse   150000                  4  gasoline  mercedes_benz   \n",
       "33138        clk   125000                  5    petrol  mercedes_benz   \n",
       "43656       golf   150000                 10  gasoline     volkswagen   \n",
       "...          ...      ...                ...       ...            ...   \n",
       "349709     ibiza   150000                 12    petrol           seat   \n",
       "351555   transit   150000                 11  gasoline           ford   \n",
       "352384       3er   150000                 12    petrol            bmw   \n",
       "353057     ibiza    40000                  5    petrol           seat   \n",
       "353727       NaN   150000                  0    petrol            bmw   \n",
       "\n",
       "       NotRepaired       DateCreated  NumberOfPictures  PostalCode  \\\n",
       "14266           no  21/03/2016 00:00                 0       65529   \n",
       "27568           no  23/03/2016 00:00                 0       26629   \n",
       "31599           no  03/04/2016 00:00                 0       48432   \n",
       "33138           no  07/03/2016 00:00                 0       61200   \n",
       "43656           no  13/03/2016 00:00                 0       14482   \n",
       "...            ...               ...               ...         ...   \n",
       "349709         yes  03/04/2016 00:00                 0        6268   \n",
       "351555          no  26/03/2016 00:00                 0       96148   \n",
       "352384          no  15/03/2016 00:00                 0       92526   \n",
       "353057          no  04/03/2016 00:00                 0       61381   \n",
       "353727         NaN  20/03/2016 00:00                 0       42329   \n",
       "\n",
       "                LastSeen  \n",
       "14266   05/04/2016 20:47  \n",
       "27568   05/04/2016 07:44  \n",
       "31599   05/04/2016 21:17  \n",
       "33138   21/03/2016 03:45  \n",
       "43656   13/03/2016 20:48  \n",
       "...                  ...  \n",
       "349709  05/04/2016 21:47  \n",
       "351555  02/04/2016 07:47  \n",
       "352384  20/03/2016 21:17  \n",
       "353057  05/04/2016 19:18  \n",
       "353727  07/04/2016 00:46  \n",
       "\n",
       "[270 rows x 16 columns]"
      ]
     },
     "execution_count": 8,
     "metadata": {},
     "output_type": "execute_result"
    }
   ],
   "source": [
    "df[df.duplicated()]"
   ]
  },
  {
   "cell_type": "code",
   "execution_count": 9,
   "metadata": {},
   "outputs": [
    {
     "name": "stdout",
     "output_type": "stream",
     "text": [
      "Tamanho do DataFrame DEPOIS de remover duplicados: 354099\n"
     ]
    }
   ],
   "source": [
    "df.drop_duplicates(inplace=True)\n",
    "\n",
    "print(f\"Tamanho do DataFrame DEPOIS de remover duplicados: {len(df)}\")"
   ]
  },
  {
   "cell_type": "code",
   "execution_count": 10,
   "metadata": {},
   "outputs": [
    {
     "name": "stdout",
     "output_type": "stream",
     "text": [
      "Colunas irrelevantes removidas. DataFrame atualizado:\n"
     ]
    },
    {
     "data": {
      "text/html": [
       "<div>\n",
       "<style scoped>\n",
       "    .dataframe tbody tr th:only-of-type {\n",
       "        vertical-align: middle;\n",
       "    }\n",
       "\n",
       "    .dataframe tbody tr th {\n",
       "        vertical-align: top;\n",
       "    }\n",
       "\n",
       "    .dataframe thead th {\n",
       "        text-align: right;\n",
       "    }\n",
       "</style>\n",
       "<table border=\"1\" class=\"dataframe\">\n",
       "  <thead>\n",
       "    <tr style=\"text-align: right;\">\n",
       "      <th></th>\n",
       "      <th>Price</th>\n",
       "      <th>VehicleType</th>\n",
       "      <th>RegistrationYear</th>\n",
       "      <th>Gearbox</th>\n",
       "      <th>Power</th>\n",
       "      <th>Model</th>\n",
       "      <th>Mileage</th>\n",
       "      <th>FuelType</th>\n",
       "      <th>Brand</th>\n",
       "      <th>NotRepaired</th>\n",
       "    </tr>\n",
       "  </thead>\n",
       "  <tbody>\n",
       "    <tr>\n",
       "      <th>220075</th>\n",
       "      <td>3200</td>\n",
       "      <td>coupe</td>\n",
       "      <td>2006</td>\n",
       "      <td>manual</td>\n",
       "      <td>145</td>\n",
       "      <td>NaN</td>\n",
       "      <td>150000</td>\n",
       "      <td>petrol</td>\n",
       "      <td>ford</td>\n",
       "      <td>yes</td>\n",
       "    </tr>\n",
       "    <tr>\n",
       "      <th>244422</th>\n",
       "      <td>1999</td>\n",
       "      <td>small</td>\n",
       "      <td>1999</td>\n",
       "      <td>manual</td>\n",
       "      <td>101</td>\n",
       "      <td>golf</td>\n",
       "      <td>150000</td>\n",
       "      <td>petrol</td>\n",
       "      <td>volkswagen</td>\n",
       "      <td>no</td>\n",
       "    </tr>\n",
       "    <tr>\n",
       "      <th>277415</th>\n",
       "      <td>5500</td>\n",
       "      <td>small</td>\n",
       "      <td>2006</td>\n",
       "      <td>manual</td>\n",
       "      <td>58</td>\n",
       "      <td>other</td>\n",
       "      <td>30000</td>\n",
       "      <td>petrol</td>\n",
       "      <td>daihatsu</td>\n",
       "      <td>no</td>\n",
       "    </tr>\n",
       "    <tr>\n",
       "      <th>338608</th>\n",
       "      <td>650</td>\n",
       "      <td>small</td>\n",
       "      <td>1996</td>\n",
       "      <td>manual</td>\n",
       "      <td>60</td>\n",
       "      <td>corsa</td>\n",
       "      <td>150000</td>\n",
       "      <td>petrol</td>\n",
       "      <td>opel</td>\n",
       "      <td>yes</td>\n",
       "    </tr>\n",
       "    <tr>\n",
       "      <th>212926</th>\n",
       "      <td>250</td>\n",
       "      <td>sedan</td>\n",
       "      <td>2016</td>\n",
       "      <td>manual</td>\n",
       "      <td>58</td>\n",
       "      <td>twingo</td>\n",
       "      <td>150000</td>\n",
       "      <td>petrol</td>\n",
       "      <td>renault</td>\n",
       "      <td>NaN</td>\n",
       "    </tr>\n",
       "  </tbody>\n",
       "</table>\n",
       "</div>"
      ],
      "text/plain": [
       "        Price VehicleType  RegistrationYear Gearbox  Power   Model  Mileage  \\\n",
       "220075   3200       coupe              2006  manual    145     NaN   150000   \n",
       "244422   1999       small              1999  manual    101    golf   150000   \n",
       "277415   5500       small              2006  manual     58   other    30000   \n",
       "338608    650       small              1996  manual     60   corsa   150000   \n",
       "212926    250       sedan              2016  manual     58  twingo   150000   \n",
       "\n",
       "       FuelType       Brand NotRepaired  \n",
       "220075   petrol        ford         yes  \n",
       "244422   petrol  volkswagen          no  \n",
       "277415   petrol    daihatsu          no  \n",
       "338608   petrol        opel         yes  \n",
       "212926   petrol     renault         NaN  "
      ]
     },
     "metadata": {},
     "output_type": "display_data"
    }
   ],
   "source": [
    "from IPython.display import display\n",
    "#Remoçao de colunas irrelevantes\n",
    "colunas_para_remover = [\n",
    "    'DateCrawled', \n",
    "    'RegistrationMonth', \n",
    "    'DateCreated', \n",
    "    'NumberOfPictures', \n",
    "    'PostalCode', \n",
    "    'LastSeen'\n",
    "]\n",
    "df.drop(colunas_para_remover, axis=1, inplace=True)\n",
    "\n",
    "print(\"Colunas irrelevantes removidas. DataFrame atualizado:\")\n",
    "display(df.sample(5))"
   ]
  },
  {
   "cell_type": "code",
   "execution_count": 11,
   "metadata": {},
   "outputs": [],
   "source": [
    "#Filtrando ano de registro dos carros, para que nao existam anomalias\n",
    "ano_minimo = 1980\n",
    "ano_maximo = 2016\n",
    "df = df[(df['RegistrationYear'] >= ano_minimo) & (df['RegistrationYear'] <= ano_maximo)]"
   ]
  },
  {
   "cell_type": "code",
   "execution_count": 12,
   "metadata": {},
   "outputs": [],
   "source": [
    "#Filtrando potencia do veiculo, para que nao existam anomalias\n",
    "potencia_minima = 50\n",
    "potencia_maxima = 500\n",
    "df = df[(df['Power'] >= potencia_minima) & (df['Power'] <= potencia_maxima)]"
   ]
  },
  {
   "cell_type": "code",
   "execution_count": 13,
   "metadata": {},
   "outputs": [
    {
     "name": "stdout",
     "output_type": "stream",
     "text": [
      "Tamanho do DataFrame DEPOIS de filtrar o ano: 295158\n"
     ]
    }
   ],
   "source": [
    "print(f\"Tamanho do DataFrame DEPOIS de filtrar o ano: {len(df)}\")"
   ]
  },
  {
   "cell_type": "code",
   "execution_count": 14,
   "metadata": {},
   "outputs": [
    {
     "name": "stdout",
     "output_type": "stream",
     "text": [
      "Tamanho do DataFrame DEPOIS de filtrar a potência: 295158\n"
     ]
    }
   ],
   "source": [
    "print(f\"Tamanho do DataFrame DEPOIS de filtrar a potência: {len(df)}\")"
   ]
  },
  {
   "cell_type": "code",
   "execution_count": 15,
   "metadata": {},
   "outputs": [],
   "source": [
    "# Preenchendo os valores ausentes em 'NotRepaired' com 'unknown'\n",
    "df['NotRepaired'].fillna('unknown', inplace=True)"
   ]
  },
  {
   "cell_type": "code",
   "execution_count": 16,
   "metadata": {},
   "outputs": [],
   "source": [
    "# Remove a coluna 'Model' do DataFrame \n",
    "# A remoçao se da pois nao é uma coluna onde é determinante para nossa modelagem\n",
    "df.drop('Model', axis=1, inplace=True)"
   ]
  },
  {
   "cell_type": "code",
   "execution_count": 17,
   "metadata": {},
   "outputs": [
    {
     "name": "stdout",
     "output_type": "stream",
     "text": [
      "Price               0\n",
      "VehicleType         0\n",
      "RegistrationYear    0\n",
      "Gearbox             0\n",
      "Power               0\n",
      "Mileage             0\n",
      "FuelType            0\n",
      "Brand               0\n",
      "NotRepaired         0\n",
      "dtype: int64\n"
     ]
    }
   ],
   "source": [
    "print(df.isnull().sum())"
   ]
  },
  {
   "cell_type": "markdown",
   "metadata": {},
   "source": [
    "# EDA"
   ]
  },
  {
   "cell_type": "code",
   "execution_count": 18,
   "metadata": {},
   "outputs": [],
   "source": [
    "import seaborn as sns\n",
    "import matplotlib.pyplot as plt"
   ]
  },
  {
   "cell_type": "code",
   "execution_count": 19,
   "metadata": {},
   "outputs": [
    {
     "data": {
      "image/png": "[encoded data removed]",
      "text/plain": [
       "<Figure size 1200x700 with 1 Axes>"
      ]
     },
     "metadata": {},
     "output_type": "display_data"
    }
   ],
   "source": [
    "plt.figure(figsize=(12, 7))\n",
    "sns.histplot(df['Price'], kde=True, bins=50)\n",
    "plt.title('Distribuição de Preços dos Carros Usados', fontsize=16)\n",
    "plt.xlabel('Preço (Euro)')\n",
    "plt.ylabel('Frequência (Contagem de Carros)')\n",
    "\n",
    "plt.show()"
   ]
  },
  {
   "cell_type": "markdown",
   "metadata": {},
   "source": [
    "O histograma de preços demonstra uma distribuição fortemente assimétrica à direita, com a vasta maioria dos veículos concentrada na faixa de valores mais baixos. Há um pico acentuado de carros com preços abaixo de 2.500 euros. A longa cauda para a direita indica que, embora existam carros de alto valor, eles são muito menos frequentes, o que representa um padrão característico para o mercado de carros usados."
   ]
  },
  {
   "cell_type": "code",
   "execution_count": 20,
   "metadata": {},
   "outputs": [
    {
     "data": {
      "image/png": "[encoded data removed]",
      "text/plain": [
       "<Figure size 1800x800 with 2 Axes>"
      ]
     },
     "metadata": {},
     "output_type": "display_data"
    }
   ],
   "source": [
    "fig, axes = plt.subplots(1, 2, figsize=(18, 8))\n",
    "fig.suptitle('Comparação de Preços por Características Categóricas', fontsize=18)\n",
    "sns.boxplot(ax=axes[0], x='VehicleType', y='Price', data=df, palette='viridis')\n",
    "axes[0].set_title('Preço por Tipo de Veículo', fontsize=14)\n",
    "axes[0].set_xlabel('Tipo de Veículo')\n",
    "axes[0].set_ylabel('Preço (Euro)')\n",
    "axes[0].tick_params(axis='x', rotation=45) \n",
    "\n",
    "sns.boxplot(ax=axes[1], x='Gearbox', y='Price', data=df, palette='plasma')\n",
    "axes[1].set_title('Preço por Tipo de Câmbio', fontsize=14)\n",
    "axes[1].set_xlabel('Tipo de Câmbio')\n",
    "axes[1].set_ylabel('') \n",
    "plt.tight_layout(rect=[0, 0.03, 1, 0.95])\n",
    "\n",
    "plt.show()"
   ]
  },
  {
   "cell_type": "markdown",
   "metadata": {},
   "source": [
    "A análise de preços por categoria revela que os tipos de veículo com os maiores valores medianos são o SUV e o conversível, enquanto os carros pequenos são os mais baratos. Além disso, veículos com câmbio automático são consistentemente mais caros e apresentam uma variação de preço muito maior em comparação com os de câmbio manual."
   ]
  },
  {
   "cell_type": "code",
   "execution_count": 21,
   "metadata": {},
   "outputs": [
    {
     "data": {
      "image/png": "[encoded data removed]",
      "text/plain": [
       "<Figure size 1000x800 with 2 Axes>"
      ]
     },
     "metadata": {},
     "output_type": "display_data"
    }
   ],
   "source": [
    "plt.figure(figsize=(10, 8))\n",
    "correlation_matrix = df.corr()\n",
    "sns.heatmap(\n",
    "    correlation_matrix, \n",
    "    annot=True,\n",
    "    cmap='coolwarm',\n",
    "    fmt=\".2f\"\n",
    ")\n",
    "plt.title('Mapa de Calor de Correlações entre Variáveis Numéricas', fontsize=16)\n",
    "\n",
    "plt.show()"
   ]
  },
  {
   "cell_type": "markdown",
   "metadata": {},
   "source": [
    "A análise de correlação confirma as relações esperadas: carros mais novos e mais potentes estão positivamente correlacionados com o Preço, enquanto uma maior quilometragem tem uma correlação negativa. Crucialmente, não foi observada varias correlaçoes fortes entre as variáveis preditoras, o que é um bom indicativo para a estabilidade dos modelos de regressão"
   ]
  },
  {
   "cell_type": "markdown",
   "metadata": {},
   "source": [
    "## Treinamento do modelo"
   ]
  },
  {
   "cell_type": "code",
   "execution_count": 22,
   "metadata": {},
   "outputs": [],
   "source": [
    "from sklearn.model_selection import train_test_split\n",
    "from sklearn.preprocessing import OneHotEncoder\n",
    "\n",
    "features = df.drop('Price', axis=1)\n",
    "target = df['Price']"
   ]
  },
  {
   "cell_type": "code",
   "execution_count": 23,
   "metadata": {},
   "outputs": [],
   "source": [
    "features_train, features_temp, target_train, target_temp = train_test_split(\n",
    "    features, \n",
    "    target, \n",
    "    test_size=0.20, \n",
    "    random_state=42\n",
    ")\n",
    "\n",
    "features_val, features_test, target_val, target_test = train_test_split(\n",
    "    features_temp, \n",
    "    target_temp, \n",
    "    test_size=0.5, \n",
    "    random_state=42\n",
    ")"
   ]
  },
  {
   "cell_type": "code",
   "execution_count": 24,
   "metadata": {},
   "outputs": [
    {
     "name": "stdout",
     "output_type": "stream",
     "text": [
      "Divisão dos Dados Concluída:\n",
      "Tamanho do conjunto de treino: (236126, 8)\n",
      "Tamanho do conjunto de validação: (29516, 8)\n",
      "Tamanho do conjunto de teste: (29516, 8)\n"
     ]
    }
   ],
   "source": [
    "print(\"Divisão dos Dados Concluída:\")\n",
    "print(\"Tamanho do conjunto de treino:\", features_train.shape)\n",
    "print(\"Tamanho do conjunto de validação:\", features_val.shape)\n",
    "print(\"Tamanho do conjunto de teste:\", features_test.shape)"
   ]
  },
  {
   "cell_type": "code",
   "execution_count": null,
   "metadata": {},
   "outputs": [],
   "source": []
  },
  {
   "cell_type": "code",
   "execution_count": 25,
   "metadata": {},
   "outputs": [],
   "source": [
    "categorical_features = features_train.select_dtypes(include='object').columns"
   ]
  },
  {
   "cell_type": "code",
   "execution_count": 26,
   "metadata": {},
   "outputs": [
    {
     "data": {
      "text/plain": [
       "OneHotEncoder(handle_unknown='ignore', sparse=False)"
      ]
     },
     "execution_count": 26,
     "metadata": {},
     "output_type": "execute_result"
    }
   ],
   "source": [
    "encoder = OneHotEncoder(handle_unknown='ignore', sparse=False)\n",
    "encoder.fit(features_train[categorical_features])"
   ]
  },
  {
   "cell_type": "code",
   "execution_count": 27,
   "metadata": {},
   "outputs": [],
   "source": [
    "features_train_ohe = encoder.transform(features_train[categorical_features])\n",
    "features_val_ohe = encoder.transform(features_val[categorical_features])\n",
    "features_test_ohe = encoder.transform(features_test[categorical_features])"
   ]
  },
  {
   "cell_type": "code",
   "execution_count": 28,
   "metadata": {},
   "outputs": [
    {
     "name": "stdout",
     "output_type": "stream",
     "text": [
      "Dados com One-Hot Encoding prontos para Treino, Validação e Teste.\n"
     ]
    }
   ],
   "source": [
    "features_train_ohe_df = pd.DataFrame(features_train_ohe, columns=encoder.get_feature_names(), index=features_train.index)\n",
    "features_val_ohe_df = pd.DataFrame(features_val_ohe, columns=encoder.get_feature_names(), index=features_val.index) # <-- Novo\n",
    "features_test_ohe_df = pd.DataFrame(features_test_ohe, columns=encoder.get_feature_names(), index=features_test.index)\n",
    "\n",
    "features_train_final_ohe = pd.concat([features_train.select_dtypes(exclude='object'), features_train_ohe_df], axis=1)\n",
    "features_val_final_ohe = pd.concat([features_val.select_dtypes(exclude='object'), features_val_ohe_df], axis=1) # <-- Novo\n",
    "features_test_final_ohe = pd.concat([features_test.select_dtypes(exclude='object'), features_test_ohe_df], axis=1)\n",
    "\n",
    "print(\"Dados com One-Hot Encoding prontos para Treino, Validação e Teste.\")"
   ]
  },
  {
   "cell_type": "code",
   "execution_count": 29,
   "metadata": {},
   "outputs": [
    {
     "name": "stdout",
     "output_type": "stream",
     "text": [
      "Dados com tipo 'category' prontos para Treino, Validação e Teste.\n"
     ]
    }
   ],
   "source": [
    "features_train_lgbm = features_train.copy()\n",
    "features_val_lgbm = features_val.copy()\n",
    "features_test_lgbm = features_test.copy()\n",
    "\n",
    "for col in categorical_features:\n",
    "    features_train_lgbm[col] = features_train_lgbm[col].astype('category')\n",
    "    features_val_lgbm[col] = features_val_lgbm[col].astype('category')\n",
    "    features_test_lgbm[col] = features_test_lgbm[col].astype('category')\n",
    "\n",
    "print(\"Dados com tipo 'category' prontos para Treino, Validação e Teste.\")"
   ]
  },
  {
   "cell_type": "markdown",
   "metadata": {},
   "source": [
    "## Análise do modelo"
   ]
  },
  {
   "cell_type": "code",
   "execution_count": 30,
   "metadata": {},
   "outputs": [],
   "source": [
    "from sklearn.linear_model import LinearRegression\n",
    "from sklearn.metrics import mean_squared_error\n",
    "import numpy as np"
   ]
  },
  {
   "cell_type": "code",
   "execution_count": 31,
   "metadata": {},
   "outputs": [
    {
     "name": "stdout",
     "output_type": "stream",
     "text": [
      "Treinamento concluído.\n",
      "CPU times: user 1.41 s, sys: 507 ms, total: 1.92 s\n",
      "Wall time: 1 s\n"
     ]
    }
   ],
   "source": [
    "%%time\n",
    "model_lr = LinearRegression()\n",
    "model_lr.fit(features_train_final_ohe, target_train)\n",
    "print(\"Treinamento concluído.\")"
   ]
  },
  {
   "cell_type": "code",
   "execution_count": 32,
   "metadata": {},
   "outputs": [
    {
     "name": "stdout",
     "output_type": "stream",
     "text": [
      "Previsões concluídas.\n",
      "CPU times: user 19.3 ms, sys: 31.2 ms, total: 50.5 ms\n",
      "Wall time: 6.84 ms\n"
     ]
    }
   ],
   "source": [
    "%%time\n",
    "predictions_lr = model_lr.predict(features_test_final_ohe)\n",
    "print(\"Previsões concluídas.\")"
   ]
  },
  {
   "cell_type": "code",
   "execution_count": 33,
   "metadata": {},
   "outputs": [
    {
     "name": "stdout",
     "output_type": "stream",
     "text": [
      "Resultados para a Regressão Linear\n",
      "Qualidade (REQM): 2631.68\n"
     ]
    }
   ],
   "source": [
    "mse_lr = mean_squared_error(target_test, predictions_lr)\n",
    "reqm_lr = np.sqrt(mse_lr)\n",
    "print(\"Resultados para a Regressão Linear\")\n",
    "print(f\"Qualidade (REQM): {reqm_lr:.2f}\")"
   ]
  },
  {
   "cell_type": "code",
   "execution_count": 34,
   "metadata": {},
   "outputs": [],
   "source": [
    "from sklearn.ensemble import RandomForestRegressor"
   ]
  },
  {
   "cell_type": "code",
   "execution_count": 35,
   "metadata": {},
   "outputs": [
    {
     "name": "stdout",
     "output_type": "stream",
     "text": [
      "---Buscando hiperparâmetros para o Random Forest (usando VALIDAÇÃO) ---\n",
      "\n",
      "Testando com n_estimators=50, max_depth=10...\n",
      "REQM na VALIDAÇÃO: 1936.74\n",
      "\n",
      "Testando com n_estimators=50, max_depth=15...\n",
      "REQM na VALIDAÇÃO: 1737.02\n",
      "\n",
      "Testando com n_estimators=100, max_depth=10...\n",
      "REQM na VALIDAÇÃO: 1933.39\n",
      "\n",
      "Testando com n_estimators=100, max_depth=15...\n",
      "REQM na VALIDAÇÃO: 1734.77\n",
      "\n",
      "Busca Concluída\n",
      "Melhores parâmetros encontrados: {'n_estimators': 100, 'max_depth': 15}\n",
      "CPU times: user 3min 17s, sys: 502 ms, total: 3min 18s\n",
      "Wall time: 1min 40s\n"
     ]
    }
   ],
   "source": [
    "%%time\n",
    "\n",
    "best_reqm_rf = float('inf')\n",
    "best_params_rf = {}\n",
    "\n",
    "print(\"---Buscando hiperparâmetros para o Random Forest (usando VALIDAÇÃO) ---\")\n",
    "for n_est in [50, 100]:\n",
    "    for depth in [10, 15]:\n",
    "        print(f\"\\nTestando com n_estimators={n_est}, max_depth={depth}...\")\n",
    "        model_rf = RandomForestRegressor(n_estimators=n_est, max_depth=depth, random_state=42, n_jobs=-1)\n",
    "        \n",
    "        model_rf.fit(features_train_final_ohe, target_train)\n",
    "        \n",
    "        predictions_rf_val = model_rf.predict(features_val_final_ohe)\n",
    "        reqm_rf = np.sqrt(mean_squared_error(target_val, predictions_rf_val))    \n",
    "        print(f\"REQM na VALIDAÇÃO: {reqm_rf:.2f}\")\n",
    "        \n",
    "        if reqm_rf < best_reqm_rf:\n",
    "            best_reqm_rf = reqm_rf\n",
    "            best_params_rf = {'n_estimators': n_est, 'max_depth': depth}\n",
    "\n",
    "print(\"\\nBusca Concluída\")\n",
    "print(f\"Melhores parâmetros encontrados: {best_params_rf}\")"
   ]
  },
  {
   "cell_type": "code",
   "execution_count": 36,
   "metadata": {},
   "outputs": [
    {
     "name": "stdout",
     "output_type": "stream",
     "text": [
      "\n",
      "Resultado Final do Random Forest no Conjunto de Teste\n",
      "REQM Final: 1727.38\n"
     ]
    }
   ],
   "source": [
    "final_model_rf = RandomForestRegressor(**best_params_rf, random_state=42, n_jobs=-1)\n",
    "final_model_rf.fit(features_train_final_ohe, target_train)\n",
    "\n",
    "predictions_test_rf = final_model_rf.predict(features_test_final_ohe)\n",
    "reqm_final_rf = np.sqrt(mean_squared_error(target_test, predictions_test_rf))\n",
    "\n",
    "print(\"\\nResultado Final do Random Forest no Conjunto de Teste\")\n",
    "print(f\"REQM Final: {reqm_final_rf:.2f}\")"
   ]
  },
  {
   "cell_type": "code",
   "execution_count": 37,
   "metadata": {},
   "outputs": [
    {
     "name": "stdout",
     "output_type": "stream",
     "text": [
      "Previsões do Random Forest concluídas.\n",
      "CPU times: user 468 ms, sys: 8.13 ms, total: 476 ms\n",
      "Wall time: 251 ms\n"
     ]
    }
   ],
   "source": [
    "%%time\n",
    "predictions_final_rf = final_model_rf.predict(features_test_final_ohe)\n",
    "print(\"Previsões do Random Forest concluídas.\")\n"
   ]
  },
  {
   "cell_type": "code",
   "execution_count": 38,
   "metadata": {},
   "outputs": [],
   "source": [
    "import lightgbm as lgb"
   ]
  },
  {
   "cell_type": "code",
   "execution_count": 39,
   "metadata": {},
   "outputs": [
    {
     "name": "stdout",
     "output_type": "stream",
     "text": [
      "Buscando hiperparâmetros para o LightGBM (usando VALIDAÇÃO)\n",
      "\n",
      "Testando com n_estimators=100, num_leaves=31...\n",
      "REQM na VALIDAÇÃO: 1743.71\n",
      "\n",
      "Testando com n_estimators=100, num_leaves=50...\n",
      "REQM na VALIDAÇÃO: 1716.48\n",
      "\n",
      "Testando com n_estimators=200, num_leaves=31...\n",
      "REQM na VALIDAÇÃO: 1706.25\n",
      "\n",
      "Testando com n_estimators=200, num_leaves=50...\n",
      "REQM na VALIDAÇÃO: 1683.22\n",
      "\n",
      "Busca Concluída\n",
      "Melhores parâmetros encontrados: {'n_estimators': 200, 'num_leaves': 50}\n",
      "CPU times: user 25.8 s, sys: 78.7 ms, total: 25.9 s\n",
      "Wall time: 12.9 s\n"
     ]
    }
   ],
   "source": [
    "%%time \n",
    "\n",
    "best_reqm_lgbm = float('inf')\n",
    "best_params_lgbm = {}\n",
    "\n",
    "# for n_est in [100, 200]:\n",
    "#     for n_leaves in [31, 50]:\n",
    "        \n",
    "#         print(f\"\\nTestando com n_estimators={n_est}, num_leaves={n_leaves}...\")\n",
    "        \n",
    "#         model_lgbm = lgb.LGBMRegressor(\n",
    "#             n_estimators=n_est,\n",
    "#             num_leaves=n_leaves,\n",
    "#             random_state=42\n",
    "#         )\n",
    "#         model_lgbm.fit(features_train_lgbm, target_train)\n",
    "#         predictions_lgbm_test = model_lgbm.predict(features_test_lgbm)\n",
    "#         reqm_lgbm = np.sqrt(mean_squared_error(target_test, predictions_lgbm_test))\n",
    "        \n",
    "#         print(f\"REQM no teste: {reqm_lgbm:.2f}\")\n",
    "        \n",
    "#         if reqm_lgbm < best_reqm_lgbm:\n",
    "#             best_reqm_lgbm = reqm_lgbm\n",
    "#             best_params_lgbm = {'n_estimators': n_est, 'num_leaves': n_leaves}\n",
    "\n",
    "best_reqm_lgbm = float('inf')\n",
    "best_params_lgbm = {}\n",
    "\n",
    "print(\"Buscando hiperparâmetros para o LightGBM (usando VALIDAÇÃO)\")\n",
    "for n_est in [100, 200]:\n",
    "    for n_leaves in [31, 50]:\n",
    "        print(f\"\\nTestando com n_estimators={n_est}, num_leaves={n_leaves}...\")\n",
    "        model_lgbm = lgb.LGBMRegressor(n_estimators=n_est, num_leaves=n_leaves, random_state=42)       \n",
    "        model_lgbm.fit(features_train_lgbm, target_train)\n",
    "\n",
    "        predictions_lgbm_val = model_lgbm.predict(features_val_lgbm)\n",
    "        reqm_lgbm = np.sqrt(mean_squared_error(target_val, predictions_lgbm_val))\n",
    "        \n",
    "        print(f\"REQM na VALIDAÇÃO: {reqm_lgbm:.2f}\")\n",
    "        \n",
    "        if reqm_lgbm < best_reqm_lgbm:\n",
    "            best_reqm_lgbm = reqm_lgbm\n",
    "            best_params_lgbm = {'n_estimators': n_est, 'num_leaves': n_leaves}\n",
    "\n",
    "print(\"\\nBusca Concluída\")\n",
    "print(f\"Melhores parâmetros encontrados: {best_params_lgbm}\")"
   ]
  },
  {
   "cell_type": "code",
   "execution_count": 45,
   "metadata": {},
   "outputs": [
    {
     "name": "stdout",
     "output_type": "stream",
     "text": [
      "Previsões do LightGBM concluídas.\n",
      "CPU times: user 286 µs, sys: 2 µs, total: 288 µs\n",
      "Wall time: 252 µs\n"
     ]
    }
   ],
   "source": [
    "%%time\n",
    "#predictions_final_lgbm = final_model_lgbm.predict(features_test_lgbm)\n",
    "print(\"Previsões do LightGBM concluídas.\")"
   ]
  },
  {
   "cell_type": "code",
   "execution_count": 46,
   "metadata": {},
   "outputs": [
    {
     "name": "stdout",
     "output_type": "stream",
     "text": [
      "\n",
      "Resultado Final do LightGBM no Conjunto de Teste\n",
      "REQM Final: 1670.50\n"
     ]
    }
   ],
   "source": [
    "final_model_lgbm = lgb.LGBMRegressor(**best_params_lgbm, random_state=42)\n",
    "final_model_lgbm.fit(features_train_lgbm, target_train)\n",
    "predictions_test_lgbm = final_model_lgbm.predict(features_test_lgbm)\n",
    "reqm_final_lgbm = np.sqrt(mean_squared_error(target_test, predictions_test_lgbm))\n",
    "\n",
    "print(\"\\nResultado Final do LightGBM no Conjunto de Teste\")\n",
    "print(f\"REQM Final: {reqm_final_lgbm:.2f}\")"
   ]
  },
  {
   "cell_type": "code",
   "execution_count": 42,
   "metadata": {},
   "outputs": [],
   "source": [
    "# Resultados da Regressão Linear\n",
    "reqm_lr = 2636.53\n",
    "tempo_treino_lr = 0.916 \n",
    "tempo_predicao_lr = 0.084\n",
    "\n",
    "# Resultados do Random Forest \n",
    "reqm_rf = 1727\n",
    "tempo_treino_rf = 85 \n",
    "tempo_predicao_rf = 0.220\n",
    "\n",
    "# Resultados do LightGBM\n",
    "reqm_lgbm = 1670.50\n",
    "tempo_treino_lgbm = 0.216\n",
    "tempo_predicao_lgbm = 0.135"
   ]
  },
  {
   "cell_type": "markdown",
   "metadata": {},
   "source": [
    "# Conclusao"
   ]
  },
  {
   "cell_type": "markdown",
   "metadata": {},
   "source": [
    "O objetivo deste projeto foi desenvolver um modelo para o serviço, Rusty Bargain, capaz de prever o valor de mercado de carros usados. A meta principal era encontrar o melhor balanço entre três critérios de negócio:\n",
    "\n",
    "*A qualidade da predição (REQM), a velocidade da predição e o tempo de treinamento.*\n",
    "\n",
    "O processo iniciou-se com uma rigorosa preparação dos dados, que incluiu o tratamento de milhares de valores ausentes, a remoção de 262 registros duplicados e a correção de anomalias significativas nas colunas RegistrationYear e Power. Para a modelagem, os dados foram divididos em conjuntos de treino e teste, e as features categóricas foram tratadas de duas maneiras distintas para atender aos requisitos de diferentes algoritmos: via One-Hot Encoding para modelos clássicos e mantidas no formato original para bibliotecas de boosting avançadas.\n",
    "\n",
    "**Foram treinados e avaliados três tipos de modelos, com os seguintes resultados de performance no conjunto de teste:**\n",
    "\n",
    "| Modelo | REQM (Qualidade) | Tempo de Treinamento (s) | Tempo de Predição (s) |\n",
    "| :--- | :---: | :---: | :---: |\n",
    "| LightGBM | 1670.50 | 0.216 | 0.216 |\n",
    "| Random Forest | 1727 | 85.0 | 0.220 |\n",
    "| Regressão Linear | 2636.53 | 0.916 | 0.084 |\n",
    "\n",
    "### Análise dos Resultados:\n",
    "\n",
    "* A Regressão Linear, embora extremamente rápida na predição, serviu como uma linha de base, demonstrando um erro significativamente maior que os outros modelos. O Random Forest representou uma melhoria substancial na qualidade da predição, reduzindo o REQM para 1727, mas teve um custo de treinamento muito alto, levando quase um minuto e meio.\n",
    "\n",
    "* O modelo LightGBM se destacou como a melhor solução geral. Ele não apenas alcançou o menor REQM 1670.50, sendo o modelo de maior precisão, mas também apresentou um tempo de treinamento absurdamente rápido.\n",
    "Sua velocidade de predição, embora não seja a mais rápida, é de menos de meio segundo, o que é excelente para a experiência do usuário em um aplicativo.\n",
    "\n",
    "**Recomendação:** \n",
    "\n",
    "Com base na análise comparativa, o modelo LightGBM é a recomendação ideal para a empresa. Ele oferece a melhor combinação dos três critérios exigidos, é o mais preciso, o mais rápido para treinar e possui uma velocidade de predição excelente para ser implementado em um aplicativo para clientes."
   ]
  }
 ],
 "metadata": {
  "kernelspec": {
   "display_name": "Python 3 (ipykernel)",
   "language": "python",
   "name": "python3"
  },
  "language_info": {
   "codemirror_mode": {
    "name": "ipython",
    "version": 3
   },
   "file_extension": ".py",
   "mimetype": "text/x-python",
   "name": "python",
   "nbconvert_exporter": "python",
   "pygments_lexer": "ipython3",
   "version": "3.9.23"
  }
 },
 "nbformat": 4,
 "nbformat_minor": 4
}
